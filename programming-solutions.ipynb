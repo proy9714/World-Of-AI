{
 "cells": [
  {
   "cell_type": "code",
   "execution_count": 17,
   "metadata": {},
   "outputs": [],
   "source": [
    "# 1. Find the frequency of elements from an array of values\n",
    "\n",
    "from collections import defaultdict\n",
    "\n",
    "def get_frequency(nums):\n",
    "    frequency_dict = defaultdict(int)\n",
    "    for num in nums:\n",
    "        frequency_dict[num] += 1\n",
    "\n",
    "    return dict(frequency_dict)"
   ]
  },
  {
   "cell_type": "code",
   "execution_count": 18,
   "metadata": {},
   "outputs": [
    {
     "name": "stdout",
     "output_type": "stream",
     "text": [
      "{12: 3, 13: 1, 14: 1, 15: 1, 16: 2, 1: 3, 3: 2}\n"
     ]
    }
   ],
   "source": [
    "nums = [12, 13, 14, 15, 16, 12, 12, 1, 3, 1, 3, 1, 16]   \n",
    "frequency = get_frequency(nums)\n",
    "print(frequency)"
   ]
  }
 ],
 "metadata": {
  "kernelspec": {
   "display_name": "Python 3",
   "language": "python",
   "name": "python3"
  },
  "language_info": {
   "codemirror_mode": {
    "name": "ipython",
    "version": 3
   },
   "file_extension": ".py",
   "mimetype": "text/x-python",
   "name": "python",
   "nbconvert_exporter": "python",
   "pygments_lexer": "ipython3",
   "version": "3.9.13"
  },
  "orig_nbformat": 4
 },
 "nbformat": 4,
 "nbformat_minor": 2
}
